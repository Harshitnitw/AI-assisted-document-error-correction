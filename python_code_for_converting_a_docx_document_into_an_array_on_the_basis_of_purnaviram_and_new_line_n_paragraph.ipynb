{
  "nbformat": 4,
  "nbformat_minor": 0,
  "metadata": {
    "colab": {
      "provenance": [],
      "mount_file_id": "1hbumhPLyKY8PkwzuRCrLHoQuN0VEC9Ms",
      "authorship_tag": "ABX9TyMqx/+MnpnfpbG0EUEn0t0w",
      "include_colab_link": true
    },
    "kernelspec": {
      "name": "python3",
      "display_name": "Python 3"
    },
    "language_info": {
      "name": "python"
    }
  },
  "cells": [
    {
      "cell_type": "markdown",
      "metadata": {
        "id": "view-in-github",
        "colab_type": "text"
      },
      "source": [
        "<a href=\"https://colab.research.google.com/github/Harshitnitw/AI-assisted-document-error-correction/blob/main/python_code_for_converting_a_docx_document_into_an_array_on_the_basis_of_purnaviram_and_new_line_n_paragraph.ipynb\" target=\"_parent\"><img src=\"https://colab.research.google.com/assets/colab-badge.svg\" alt=\"Open In Colab\"/></a>"
      ]
    },
    {
      "cell_type": "markdown",
      "source": [
        "## Task is to split a docx file written in hindi language into an array based on hindi character “purnaviram” (।) or change of para (\\n)"
      ],
      "metadata": {
        "id": "Xque3Di_FnXV"
      }
    },
    {
      "cell_type": "code",
      "source": [
        "!pip install python-docx\n",
        "from docx import Document"
      ],
      "metadata": {
        "colab": {
          "base_uri": "https://localhost:8080/"
        },
        "collapsed": true,
        "id": "lu2zVbk0Iypb",
        "outputId": "0c223808-d7ae-437d-f0e7-498a604e8b47"
      },
      "execution_count": null,
      "outputs": [
        {
          "output_type": "stream",
          "name": "stdout",
          "text": [
            "Requirement already satisfied: python-docx in /usr/local/lib/python3.10/dist-packages (1.1.2)\n",
            "Requirement already satisfied: lxml>=3.1.0 in /usr/local/lib/python3.10/dist-packages (from python-docx) (5.3.0)\n",
            "Requirement already satisfied: typing-extensions>=4.9.0 in /usr/local/lib/python3.10/dist-packages (from python-docx) (4.12.2)\n"
          ]
        }
      ]
    },
    {
      "cell_type": "code",
      "source": [
        "import re"
      ],
      "metadata": {
        "id": "g8IwZGUeXtJ7"
      },
      "execution_count": null,
      "outputs": []
    },
    {
      "cell_type": "code",
      "source": [
        "def getText(filename):\n",
        "    doc = Document(filename)\n",
        "    fullText = []\n",
        "    # Iterated over paragraph in the document  and then split each iteration on the basis of ‘।’\n",
        "    for para in doc.paragraphs:\n",
        "        # Had to also account for edge cases of purnaviram ending with closing double quote so decided to use regex to split with ।” or।\n",
        "        split_sentences_in_para = re.split(r'(।”|।)', para.text)\n",
        "        for sentence_instance in split_sentences_in_para:\n",
        "            # Removed tab and carriage return characters for clean text\n",
        "            stripped_sentence_instance = re.sub(r'[\\t\\r]+', '', sentence_instance.strip())\n",
        "            if stripped_sentence_instance != '':\n",
        "                fullText.append(stripped_sentence_instance)\n",
        "    return fullText"
      ],
      "metadata": {
        "id": "E9Ebo8efXbfc"
      },
      "execution_count": null,
      "outputs": []
    },
    {
      "cell_type": "code",
      "source": [
        "text_arr6=getText('/content/drive/MyDrive/sample hindi text for feeding in array function for dividing into sentences.docx')"
      ],
      "metadata": {
        "id": "eel95MFHPkUR"
      },
      "execution_count": null,
      "outputs": []
    },
    {
      "cell_type": "markdown",
      "source": [
        "### split function also separated the ।” or। from the original sentences to which they belonged, and created standalone elements ।” or। in the array, so I created another array to combine these elements with the corresponding previous elements to form the complete sentences\n",
        "\n",
        "\n",
        "\n",
        "    "
      ],
      "metadata": {
        "id": "atzodXpAGMY6"
      }
    },
    {
      "cell_type": "markdown",
      "source": [
        "#### also take into account to not add purnaviram (।) to array elements not ending with (।) but with \\n"
      ],
      "metadata": {
        "id": "QOzIqLRNHsPg"
      }
    },
    {
      "cell_type": "code",
      "source": [
        "def combine_delimiters_with_previous(arr):\n",
        "    result = []\n",
        "    for element in arr:\n",
        "        if element in ['।', '।”']:\n",
        "            # If standalone '।' or '।”', combine with the previous element\n",
        "            if result:\n",
        "                result[-1] += element\n",
        "        else:\n",
        "            # Otherwise, add it as a new element\n",
        "            result.append(element)\n",
        "    return result"
      ],
      "metadata": {
        "id": "F-Pyf5y5VGXL"
      },
      "execution_count": null,
      "outputs": []
    },
    {
      "cell_type": "code",
      "source": [
        "processed_array6 = combine_delimiters_with_previous(text_arr6)"
      ],
      "metadata": {
        "id": "1gDKgH1kX_OE"
      },
      "execution_count": null,
      "outputs": []
    },
    {
      "cell_type": "code",
      "source": [
        "def top_longest_strings(arr, top_n=5):\n",
        "    # Sort the array by string length in descending order\n",
        "    sorted_arr = sorted(arr, key=len, reverse=True)\n",
        "    # Return the top N elements\n",
        "    return sorted_arr[:top_n]\n",
        "\n",
        "result = top_longest_strings(processed_array6)\n"
      ],
      "metadata": {
        "id": "VFy5yBjRHk2b"
      },
      "execution_count": null,
      "outputs": []
    },
    {
      "cell_type": "code",
      "source": [
        "print(\"Top 5 longest strings:\", result)"
      ],
      "metadata": {
        "colab": {
          "base_uri": "https://localhost:8080/"
        },
        "id": "Phh3_Vc5YLmx",
        "outputId": "55085da1-71a8-4320-b5cb-a449025c0fb8"
      },
      "execution_count": null,
      "outputs": [
        {
          "output_type": "stream",
          "name": "stdout",
          "text": [
            "Top 5 longest strings: ['किसी एक परमाणु या अणु को या एक मानव को स्वभावगति में रहने के लिए अनुकूल परिस्थिति का अथवा किसी जीव या वनस्पति को उन उनकी स्वभाव गति में रहने योग्य वातावरण, नैसर्गिकता और परस्परता मिल जाए, तब उनमें जो परिवर्तन देखने में आवेगा वह सब पहले से अधिक दृढ़ता तथा गुणात्मक और मात्रात्मक रूप से विपुलता की ओर परिवर्तित होता हुआ देखने को मिलता है।', 'जैसे एक परमाणु अपनी स्वभाव गति में रहते हुए एवं दूसरा परमाणु अपने आवेशित गतिवश उनमें निहित कुछ अंशों को बहिर्गत करने के लिए विवश होने की स्थिति में पहला वाला (परमाणु) अपने में उन बहिर्गत अंशों को आत्मसात करता हुआ मिलता है।', 'ऊपर स्पष्ट किया गया है कि इसके लिए पहले से, मानव परंपरा में अस्तित्व मूलक मानव केन्द्रित चिंतन रुपी अस्तित्व दर्शन, जीवन ज्ञान सहज ऐसा अधिकार स्थापित हुआ रहता है तभी ऐसी सानुकूल परिस्थिति को स्थापित करना संभव हो पाता है।', 'ये सब प्रकार की अभिव्यक्तियाँ, इस धरती में होने के मूल में उसकी स्वभाव गति ही रही है, क्योंकि “प्रत्येक एक अपनी स्वभाव गति प्रतिष्ठा में ही अग्रिम विकास व यथा स्थिति को प्राप्त कर लेता है।', 'इनमें पदार्थावस्था की वस्तुओं को देखने पर पता चलता है कि मानव निर्मित अधिक आवेशित वातावरण से भी स्वयं स्वभावगति में रहने की स्थिति में, स्व विकास क्रम स्थिति को प्रमाणित कर लेता है।']\n"
          ]
        }
      ]
    },
    {
      "cell_type": "code",
      "source": [
        "processed_array6"
      ],
      "metadata": {
        "colab": {
          "base_uri": "https://localhost:8080/"
        },
        "id": "PfxXRI8tYZnC",
        "outputId": "ec413f13-8a2d-4203-aa1f-87f20f65269e",
        "collapsed": true
      },
      "execution_count": null,
      "outputs": [
        {
          "output_type": "execute_result",
          "data": {
            "text/plain": [
              "['llama 3.1 405B with 9 retrievals on together  ai (took 6 minutes to execute on google colab)',\n",
              " 'अध्याय - 1',\n",
              " 'Chapter-1',\n",
              " 'समाधान और द्वन्द्व',\n",
              " 'Resolution and Conflict',\n",
              " 'समाधानात्मक भौतिकवाद के नाम से मानव में अनेक प्रश्न उभरना स्वाभाविक है।',\n",
              " 'जब से मानव सुनने-सुनाने योग्य हुआ, तब से भय और प्रलोभन वश ईश्वरवादिता क्रम में से ईश्वर को श्रेष्ठ तथा जीव-जगत का कर्त्ता, भरता, हरता मानता ही आया।',\n",
              " 'कुछ समय बाद भौतिकता का नाम आया, तब से भौतिकतावादी, भौतिकता को अपने में द्वन्द्व ही बताते आये हैं।',\n",
              " 'द्वन्द्व बताने वाले अपने को अत्यधिक वैज्ञानिक मान लिए हैं।',\n",
              " 'विज्ञान को विधिवत अध्ययन मानते है।',\n",
              " 'विधिवत अध्ययन का सार तर्क संगत होने से है।',\n",
              " 'इस विधि से अथवा उपक्रमों से मानव ने भौतिक संसार में संधर्ष विधि से विकास को माना, जबकि आदर्शवादियों ने जगत् को ईश्वर की कृपा से उत्पन्न मान लिया।',\n",
              " 'द्वन्द्व कहने के मूल में अंतरविरोध और बाह्य विरोध नामक दो बातों की स्वीकारते हुए, अंतर्विरोध को विकास का आधार बताया गया।',\n",
              " 'बाह्य विरोध को संघर्षपूर्वक स्व-वैभव अथवा स्वयं की ताकत को प्रदर्शित करने का आधार बताया गया।',\n",
              " 'जबकि वास्तविकताओं का परिशीलन करने पर इसके विपरीत तथ्य उभर आए।',\n",
              " 'जैसे :-',\n",
              " 'प्रत्येक एक अपने वातावरण सहित संपूर्ण है।',\n",
              " 'प्रत्येक एक अपने त्व सहित व्यवस्था है और समग्र व्यवस्था में भागीदार है।',\n",
              " 'प्रत्येक एक अपनी स्वभाव गति में विकास की ओर और आवेशित गति में ह्रास की ओर गतिशील होता है।',\n",
              " 'परस्पर नैसर्गिकता में ही आवेशित गति और स्वभाव गति का होना स्पष्टत: पाया जाता है।',\n",
              " 'जैसे यह धरती शून्याकर्षण विधि से अपनी स्वभाविक गति में निरतंर गतिशील है।',\n",
              " 'यह अपने में से एक व्यवस्था है ही।',\n",
              " 'समग्र व्यवस्था में भागीदारी का प्रमाण एक सौर व्यूह में भागीदारी के रूप में प्रमाणित है।',\n",
              " 'सौर व्यूह में जितने ग्रह गोल है, उनके साथ अपनी गति को भागीदारी के रूप में अर्पित किया ही है।',\n",
              " 'इससे यह सूत्र निकलता है कि “जो स्वयं व्यवस्था सहज रूप में नित्य वर्तमान रहता है, वह समग्र के साथ व्यवस्था में भागीदार हो पाता है।”',\n",
              " 'यह धरती अपने में व्यवस्था है।',\n",
              " 'इसके साक्ष्य में इसी धरती पर चारों अवस्थाओं ने सहअस्तित्व को प्रमाणित किया है।',\n",
              " 'इसी धरती पर पदार्थावस्था, प्राणावस्था, जीवावस्था और ज्ञानावस्था देखने को मिला है।',\n",
              " 'यह सब देखने वाला अर्थात् समझने वाला ज्ञानावस्था का मानव ही है।',\n",
              " 'ये सब प्रकार की अभिव्यक्तियाँ, इस धरती में होने के मूल में उसकी स्वभाव गति ही रही है, क्योंकि “प्रत्येक एक अपनी स्वभाव गति प्रतिष्ठा में ही अग्रिम विकास व यथा स्थिति को प्राप्त कर लेता है।',\n",
              " 'क्योंकि प्रत्येक एक के लिए स्वभाव गति में सहज ही नैसर्गिकता, वातावरण एवं परंपरा आदि, ये सब अनुकूल रहते आया है।”',\n",
              " 'किसी एक परमाणु या अणु को या एक मानव को स्वभावगति में रहने के लिए अनुकूल परिस्थिति का अथवा किसी जीव या वनस्पति को उन उनकी स्वभाव गति में रहने योग्य वातावरण, नैसर्गिकता और परस्परता मिल जाए, तब उनमें जो परिवर्तन देखने में आवेगा वह सब पहले से अधिक दृढ़ता तथा गुणात्मक और मात्रात्मक रूप से विपुलता की ओर परिवर्तित होता हुआ देखने को मिलता है।',\n",
              " 'इसे और भी स्पष्टता से देखें कि मानव जन्म से ही अर्थात् शरीर यात्रा के समय से ही न्याय का याचक, सही कार्य करने का इच्छुक और सत्य वक्ता होता है।',\n",
              " 'यह शिशु की स्वभाव गति है।',\n",
              " 'इसके अनुकूल परिस्थिति, वातावरण, नैसर्गिकता और परस्पता को स्थापित करने की स्थिति में मानव संतान में -',\n",
              " '1. न्याय प्रदायिक क्षमता,',\n",
              " '1. The potential for enabling others with justice.',\n",
              " '2.सही कार्य-व्यवहार करने की योग्यता तथा',\n",
              " '2.The ability to do right work-behaviour and',\n",
              " '3. सत्यबोध होने की पात्रता सहज प्रमाणित होती है।',\n",
              " '3. The eligibility for enlightenment of truth is naturally evidenced.',\n",
              " 'उक्त उदाहरण से यह भी हृदयंगम होता है कि मानव परंपरा में सानुकूलता के आवश्यकीय तथ्य स्पष्ट होते हैं।',\n",
              " 'ऊपर स्पष्ट किया गया है कि इसके लिए पहले से, मानव परंपरा में अस्तित्व मूलक मानव केन्द्रित चिंतन रुपी अस्तित्व दर्शन, जीवन ज्ञान सहज ऐसा अधिकार स्थापित हुआ रहता है तभी ऐसी सानुकूल परिस्थिति को स्थापित करना संभव हो पाता है।',\n",
              " 'अभी तक मानव परंपरा में ऐसी स्थिति नहीं बन पाई है।',\n",
              " 'जबकि मानवेतर प्रकृति अर्थात् पदार्थ, प्राण एवं जीव प्रकृति सानुकूलता के साथ “त्व” सहित व्यवस्था के रूप में है।',\n",
              " 'इनमें सानुकूलता का अध्ययन और मानव में सानुकूलता का अध्ययन विधि का भिन्न होना पाया जाता है।',\n",
              " 'इनमें पदार्थावस्था की वस्तुओं को देखने पर पता चलता है कि मानव निर्मित अधिक आवेशित वातावरण से भी स्वयं स्वभावगति में रहने की स्थिति में, स्व विकास क्रम स्थिति को प्रमाणित कर लेता है।',\n",
              " 'जैसे एक परमाणु अपनी स्वभाव गति में रहते हुए एवं दूसरा परमाणु अपने आवेशित गतिवश उनमें निहित कुछ अंशों को बहिर्गत करने के लिए विवश होने की स्थिति में पहला वाला (परमाणु) अपने में उन बहिर्गत अंशों को आत्मसात करता हुआ मिलता है।',\n",
              " 'इससे स्पष्ट होता है कि पदार्थावस्था में आवेशित गति भी पूरक हो पाता है, जबकि मानव आवेशित गतिवश, स्वयं भ्रमवश क्षतिग्रस्त होता ही है, अन्य को भी क्षतिग्रस्त कर देता हैं।',\n",
              " 'पदार्थावस्था में अपने समृद्घ होने के लिए, जितने भी प्रकार के परमाणु अणु और अणु रचित पिण्डों के रूप में समृद्घ होने तक स्वभाव गति और आवेशित गति का परस्पर पूरक होना स्पष्ट होता है।']"
            ]
          },
          "metadata": {},
          "execution_count": 38
        }
      ]
    },
    {
      "cell_type": "code",
      "source": [
        "text_arr7=getText('/content/drive/MyDrive/MD books gen ai correction project/sample from uncorrected manovigyan.docx')"
      ],
      "metadata": {
        "id": "jgMRs_bbdfnf"
      },
      "execution_count": null,
      "outputs": []
    },
    {
      "cell_type": "code",
      "source": [
        "processed_array7 = combine_delimiters_with_previous(text_arr7)"
      ],
      "metadata": {
        "id": "ZXZzBUjeeYlO"
      },
      "execution_count": null,
      "outputs": []
    },
    {
      "cell_type": "code",
      "source": [
        "top_longest_strings(processed_array7)"
      ],
      "metadata": {
        "colab": {
          "base_uri": "https://localhost:8080/"
        },
        "id": "0xd75YjzeomL",
        "outputId": "4e45c078-4daa-41ba-8ced-31dd34a0b798",
        "collapsed": true
      },
      "execution_count": null,
      "outputs": [
        {
          "output_type": "execute_result",
          "data": {
            "text/plain": [
              "['मूलतः जीवन सहज समझदारी का प्रमाणीकरण करने के क्रम मेंं ही सुख और स्फूर्ति ही सार्वभौम व्यवस्था मेंं भागीदारी, अखण्ड समाज मेंं भागीदारी, परिवार मेंं भागीदारी, स्वयं मेंं विश्वास, श्रेष्ठता का सम्मान, व्यक्तित्व और प्रतिभा मेंं संतुलन, व्यवहार मेंं सामाजिक, व्यवसाय मेंं स्वावलम्बन का प्रमाण ही वर्तमान मेंं किए जाने वाले अभिव्यक्ति, सम्प्रेषणा और प्रकाशन है।',\n",
              " 'जागृति परम्परा सहज विधि से प्राप्त जीवन ज्ञान, अस्तित्व दर्शन, मानवीयता पूर्ण आचरण पूर्वक किया गया कायिक, वाचिक, मानसिक कृत कारित अनुमोदित क्रिया कलापों से समाधान, समृद्धि, अभय, सह-अस्तित्व, व्यवहार मेंं प्रमाणित होता है तथा नियम, न्याय, समाधान, तथा प्रामाणिकता पूर्ण मानसिकता से नित्य उत्सव होता है।',\n",
              " 'स्फूर्ति  ः- समाधान सहज प्रमाण मेंं, से, के लिये नित्य प्रवृत्ति = कायिक, वाचिक, मानसिक रूप मेंं वह कृत कारित, अनुमोदित रूप मेंं व्यवस्था मेंं प्रमाणित करने के लिये तत्परता, जीवन जागृति को परावर्तित करने का उत्सव जागृत जीवन सहज सुख और प्रमाणित करने की स्फूर्ति सहज रूप मेंं होना पाया गया है।',\n",
              " 'सुख को प्रमाणित करने के लिए जो स्फूर्तियां जागृत मानव मेंं पायी जाती है, यह प्रमाणित होने के क्रम मेंं ही क्रियान्वयन होना पाया गया है।',\n",
              " '(2) समाधान (उत्पादन + विनियम सुलभता रूपी समाधान) (3)  सुख = विवेक सम्मत विज्ञान, विज्ञान सम्मत विवेक रूपी पूर्ण विचार शैली = समाधान।']"
            ]
          },
          "metadata": {},
          "execution_count": 47
        }
      ]
    },
    {
      "cell_type": "code",
      "source": [
        "processed_array7"
      ],
      "metadata": {
        "colab": {
          "base_uri": "https://localhost:8080/"
        },
        "id": "l608G-_yfRHL",
        "outputId": "8d8876ab-9b34-46e4-c591-6ea71f8a500d",
        "collapsed": true
      },
      "execution_count": null,
      "outputs": [
        {
          "output_type": "execute_result",
          "data": {
            "text/plain": [
              "['अस्तित्व के संदर्भ मेंं मानव सहज रूप मेंं ही अध्ययन करने के लिये प्रवर्तनशील है।',\n",
              " 'मानव अपने मेंं निरीक्षण परीक्षण करता है, तब पता चलता है कि -',\n",
              " '(1) प्रत्येक व्यक्ति कल्पनाशील और कर्म-स्वतंत्र है।',\n",
              " '(2) प्रत्येक व्यक्ति कर्म करने मेंं स्वतंत्र, फल भोगते समय परतंत्र है।',\n",
              " 'इनमें फलरूपता को पाना ही जागृति है जैसे कार्य व्यवहार के अनुरूप फल व फल के अनुरूप कार्य-व्यवहार।',\n",
              " '(3) मानव शरीर यात्रा के आरंभ से ही न्याय का याचक, सही कार्य-व्यवहार करने का इच्छुक और सत्य वक्ता होता है।',\n",
              " '(4) मानव मनाकार को साकार करने वाला, मनः स्वस्थता का आशावादी है।',\n",
              " '(5) मानव, समाधान, समृद्धि, अभय, सह-अस्तित्व को वरता है।',\n",
              " 'ये सभी यथार्थ, इन बिंदुओं से इंगित होते हैं और उसका प्रयोजन, सर्व सुलभ होने का आधार जागृति पूर्ण मानव परम्परा ही है।',\n",
              " 'जागृति परम्परा सहज विधि से प्राप्त जीवन ज्ञान, अस्तित्व दर्शन, मानवीयता पूर्ण आचरण पूर्वक किया गया कायिक, वाचिक, मानसिक कृत कारित अनुमोदित क्रिया कलापों से समाधान, समृद्धि, अभय, सह-अस्तित्व, व्यवहार मेंं प्रमाणित होता है तथा नियम, न्याय, समाधान, तथा प्रामाणिकता पूर्ण मानसिकता से नित्य उत्सव होता है।',\n",
              " 'फलतः सार्वभौम व्यवस्था, अखंड समाज की परिकल्पनाएं आचरण पूर्वक प्रमाणित होती हैं।',\n",
              " 'इसी विधि से सम्पूर्ण पहचान और मूल्योंं मेंं रूचि सार्थक होना पाया जाता है।',\n",
              " '37. सुख 38. स्फूर्ति',\n",
              " 'परिभाषा ः समाधान = सुख।',\n",
              " 'स्फूर्ति  ः- समाधान सहज प्रमाण मेंं, से, के लिये नित्य प्रवृत्ति = कायिक, वाचिक, मानसिक रूप मेंं वह कृत कारित, अनुमोदित रूप मेंं व्यवस्था मेंं प्रमाणित करने के लिये तत्परता, जीवन जागृति को परावर्तित करने का उत्सव जागृत जीवन सहज सुख और प्रमाणित करने की स्फूर्ति सहज रूप मेंं होना पाया गया है।',\n",
              " 'सुख को प्रमाणित करने के लिए जो स्फूर्तियां जागृत मानव मेंं पायी जाती है, यह प्रमाणित होने के क्रम मेंं ही क्रियान्वयन होना पाया गया है।',\n",
              " 'मूलतः जीवन सहज समझदारी का प्रमाणीकरण करने के क्रम मेंं ही सुख और स्फूर्ति ही सार्वभौम व्यवस्था मेंं भागीदारी, अखण्ड समाज मेंं भागीदारी, परिवार मेंं भागीदारी, स्वयं मेंं विश्वास, श्रेष्ठता का सम्मान, व्यक्तित्व और प्रतिभा मेंं संतुलन, व्यवहार मेंं सामाजिक, व्यवसाय मेंं स्वावलम्बन का प्रमाण ही वर्तमान मेंं किए जाने वाले अभिव्यक्ति, सम्प्रेषणा और प्रकाशन है।',\n",
              " 'जीवन्त शरीर के माध्यम से ही हर जीवन, मानव परम्परा मेंं प्रमाणों को प्रस्तुत करना सार्वभौम अभीष्ट है।',\n",
              " 'अभीष्ट का तात्पर्य अभ्युदय को इष्ट के रूप मेंं स्वीकारा जाना।',\n",
              " 'अभी ऐसा अभीष्ट, सहजता का तृप्ति ही सुख, शांति संतोष, आनन्द के नाम से जीवन सहज तृप्ति होता है।',\n",
              " 'तृप्ति का प्रमाण समाधान, समृद्धि, अभय, सह-अस्तित्व के रूप मेंं संप्रेषित-प्रकाशित हो जाता है।',\n",
              " 'इस प्रकार जीवन सहज बलों की अभिव्यक्ति, जीवन सहज शक्तियों की संप्रेषणा और जीवन सहज कार्य-व्यवहार भागीदारियों का प्रकाशन सुस्पष्ट है।',\n",
              " 'परिभाषा ः आशा ः- (1) सुखापेक्षा सहित आस्वादन क्रिया।',\n",
              " '(2)आशयपूर्वक की गई आस्वादन क्रिया।',\n",
              " '(3) चैतन्य इकाई की अन्तिम परिवेशीय (चतुर्थ परिवेशीय) अक्षय जीवन - शक्ति का वैभव।',\n",
              " 'सुख ः- (1) न्याय के प्रति निष्ठा।',\n",
              " '(2) समाधान (उत्पादन + विनियम सुलभता रूपी समाधान) (3)  सुख = विवेक सम्मत विज्ञान, विज्ञान सम्मत विवेक रूपी पूर्ण विचार शैली = समाधान।']"
            ]
          },
          "metadata": {},
          "execution_count": 49
        }
      ]
    },
    {
      "cell_type": "code",
      "source": [
        "import json\n",
        "\n",
        "with open('/content/drive/MyDrive/MD books gen ai correction project/processed array of sample from uncorrected manovigyan.txt', 'w') as f:\n",
        "    for line in processed_array7:\n",
        "        f.write(f\"{line}\\n\")"
      ],
      "metadata": {
        "id": "xegDSzM4iU5G"
      },
      "execution_count": null,
      "outputs": []
    }
  ]
}